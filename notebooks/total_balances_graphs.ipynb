{
 "cells": [
  {
   "cell_type": "code",
   "execution_count": null,
   "id": "cf398ce2-8633-4687-a987-99c1690a9bcc",
   "metadata": {},
   "outputs": [],
   "source": [
    "%matplotlib inline\n",
    "\n",
    "import pandas as pd\n",
    "import sqlite3\n",
    "\n",
    "con = sqlite3.connect(\"../activity.db\")\n",
    "df = pd.read_sql_query(\"SELECT timestamp, fiat_asset, total_balance from total_balances\", con)\n",
    "\n",
    "df['timestamp'] = pd.to_datetime(df['timestamp'], format='%Y-%m-%d %H:%M:%S %z')\n",
    "\n",
    "df.plot.line(x=\"timestamp\", y=[\"total_balance\"], title=df.fiat_asset.unique()[0])"
   ]
  }
 ],
 "metadata": {
  "kernelspec": {
   "display_name": "Python 3",
   "language": "python",
   "name": "python3"
  },
  "language_info": {
   "codemirror_mode": {
    "name": "ipython",
    "version": 3
   },
   "file_extension": ".py",
   "mimetype": "text/x-python",
   "name": "python",
   "nbconvert_exporter": "python",
   "pygments_lexer": "ipython3",
   "version": "3.8.5"
  }
 },
 "nbformat": 4,
 "nbformat_minor": 5
}
