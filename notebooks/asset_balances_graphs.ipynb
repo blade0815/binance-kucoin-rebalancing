{
 "cells": [
  {
   "cell_type": "code",
   "execution_count": null,
   "id": "d5a81326-6595-44fd-a719-6c1480c66db1",
   "metadata": {},
   "outputs": [],
   "source": [
    "%matplotlib inline\n",
    "\n",
    "import pandas as pd\n",
    "import sqlite3\n",
    "\n",
    "con = sqlite3.connect(\"../activity.db\")\n",
    "df = pd.read_sql_query(\"SELECT timestamp, asset, balance from crypto_asset_balances\", con)\n",
    "\n",
    "df['timestamp'] = pd.to_datetime(df['timestamp'], format='%Y-%m-%d %H:%M:%S %z')\n",
    "\n",
    "for asset in df.asset.unique():\n",
    "    filtered_df = df[df.asset.eq(asset)]\n",
    "    filtered_df.plot.line(x=\"timestamp\", y=[\"balance\"], title=asset)"
   ]
  }
 ],
 "metadata": {
  "kernelspec": {
   "display_name": "Python 3",
   "language": "python",
   "name": "python3"
  },
  "language_info": {
   "codemirror_mode": {
    "name": "ipython",
    "version": 3
   },
   "file_extension": ".py",
   "mimetype": "text/x-python",
   "name": "python",
   "nbconvert_exporter": "python",
   "pygments_lexer": "ipython3",
   "version": "3.8.5"
  }
 },
 "nbformat": 4,
 "nbformat_minor": 5
}
